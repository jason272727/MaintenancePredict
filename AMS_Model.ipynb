{
 "cells": [
  {
   "cell_type": "code",
   "execution_count": 4,
   "metadata": {},
   "outputs": [],
   "source": [
    "import pandas as pd\n",
    "import numpy as np\n",
    "df = pd.read_csv('C:/Users/User/Desktop/Python_Practice/MaintenancePredict/predictive_maintenance.csv')\n",
    "df = pd.get_dummies(df, columns=['Type'])\n",
    "df['Air_temperature'] = df['Air temperature [K]']\n",
    "df['Process_temperature'] = df['Process temperature [K]']\n",
    "df['Rotational_speed'] = df['Rotational speed [rpm]']\n",
    "df['Torque'] = df['Torque [Nm]']\n",
    "df['Tool_wear'] = df['Tool wear [min]']\n",
    "df = df.drop(['UDI','Product ID','Target','Air temperature [K]','Process temperature [K]','Rotational speed [rpm]','Torque [Nm]','Tool wear [min]'],axis=1)\n",
    "df.drop(df[df['Failure Type']=='Random Failures'].index, inplace=True)\n",
    "Failure_Type_map={\n",
    "    'No Failure':0,\n",
    "    'Power Failure':1,\n",
    "    'Tool Wear Failure':2,\n",
    "    'Overstrain Failure':3,\n",
    "    'Heat Dissipation Failure':4\n",
    "}\n",
    "df['Failure Type']=df['Failure Type'].map(Failure_Type_map)\n",
    "x = df.iloc[:,1:9]\n",
    "y = df.loc[:,'Failure Type']"
   ]
  },
  {
   "cell_type": "code",
   "execution_count": 5,
   "metadata": {},
   "outputs": [
    {
     "name": "stdout",
     "output_type": "stream",
     "text": [
      "              precision    recall  f1-score   support\n",
      "\n",
      "           0       0.99      0.99      0.99      1928\n",
      "           1       0.76      0.84      0.80        19\n",
      "           2       0.08      0.12      0.10         8\n",
      "           3       0.93      0.93      0.93        15\n",
      "           4       0.93      1.00      0.96        27\n",
      "\n",
      "    accuracy                           0.98      1997\n",
      "   macro avg       0.74      0.78      0.76      1997\n",
      "weighted avg       0.99      0.98      0.99      1997\n",
      "\n"
     ]
    }
   ],
   "source": [
    "from sklearn.model_selection import train_test_split\n",
    "from sklearn.model_selection import cross_val_score\n",
    "from sklearn.model_selection import learning_curve\n",
    "from sklearn.model_selection import StratifiedKFold\n",
    "from sklearn.metrics import classification_report\n",
    "from sklearn.metrics import confusion_matrix\n",
    "from sklearn.metrics import f1_score\n",
    "from sklearn.metrics import roc_auc_score\n",
    "from sklearn.ensemble import RandomForestClassifier\n",
    "from sklearn.ensemble import GradientBoostingClassifier\n",
    "from xgboost import XGBClassifier\n",
    "from imblearn.pipeline import Pipeline\n",
    "from imblearn.over_sampling import SMOTE\n",
    "from sklearn.model_selection import RandomizedSearchCV\n",
    "\n",
    "x_train,x_test,y_train,y_test = train_test_split(x,y,test_size=0.2,random_state=1)\n",
    "x_resample,y_resample = SMOTE(random_state=1).fit_resample(x_train, y_train)\n",
    "model = XGBClassifier(n_estimators=800, max_depth=481, subsample=1, colsample_bytree=0.8, learning_rate=0.08, random_state=1)\n",
    "model.fit(x_resample, y_resample)\n",
    "y_pred = model.predict(x_test)\n",
    "print(classification_report(y_test,y_pred))"
   ]
  },
  {
   "cell_type": "code",
   "execution_count": 6,
   "metadata": {},
   "outputs": [],
   "source": [
    "import pickle\n",
    "import gzip\n",
    "\n",
    "with gzip.GzipFile('./AMSModel.pgz', 'w') as f:\n",
    "    pickle.dump(model, f)"
   ]
  },
  {
   "cell_type": "code",
   "execution_count": null,
   "metadata": {},
   "outputs": [],
   "source": []
  }
 ],
 "metadata": {
  "kernelspec": {
   "display_name": "Python 3",
   "language": "python",
   "name": "python3"
  },
  "language_info": {
   "codemirror_mode": {
    "name": "ipython",
    "version": 3
   },
   "file_extension": ".py",
   "mimetype": "text/x-python",
   "name": "python",
   "nbconvert_exporter": "python",
   "pygments_lexer": "ipython3",
   "version": "3.10.6"
  },
  "orig_nbformat": 4
 },
 "nbformat": 4,
 "nbformat_minor": 2
}
